{
  "nbformat": 4,
  "nbformat_minor": 0,
  "metadata": {
    "colab": {
      "provenance": [],
      "cell_execution_strategy": "setup",
      "authorship_tag": "ABX9TyOZwYGmHXxgdoP+5UR/X0va",
      "include_colab_link": true
    },
    "kernelspec": {
      "name": "python3",
      "display_name": "Python 3"
    },
    "language_info": {
      "name": "python"
    }
  },
  "cells": [
    {
      "cell_type": "markdown",
      "metadata": {
        "id": "view-in-github",
        "colab_type": "text"
      },
      "source": [
        "<a href=\"https://colab.research.google.com/github/dashsumit/Projects/blob/main/Live_Time_Zone.ipynb\" target=\"_parent\"><img src=\"https://colab.research.google.com/assets/colab-badge.svg\" alt=\"Open In Colab\"/></a>"
      ]
    },
    {
      "cell_type": "code",
      "execution_count": 1,
      "metadata": {
        "id": "7ZGkWF-powJH"
      },
      "outputs": [],
      "source": [
        "import time"
      ]
    },
    {
      "cell_type": "code",
      "source": [
        "\n",
        "\n",
        "def get_greeting():\n",
        "    current_hour = time.localtime().tm_hour  # Get the current hour (0-23)\n",
        "\n",
        "    # Print current hour for debugging\n",
        "    print(f\"Current Hour: {current_hour}\")\n",
        "\n",
        "    Current_Time = time.strftime('%H : %M : %S')  # strftime to convert time into string\n",
        "    print(f\"Current Time: {Current_Time}\")\n",
        "\n",
        "    if 6 <= current_hour < 12:\n",
        "        return \"Good Morning !!! \"\n",
        "    elif 12 <= current_hour < 15:\n",
        "        return \"Good Noon !!! \"\n",
        "    elif 15 <= current_hour < 20:\n",
        "        return \"Good Afternoon !!! \"\n",
        "    elif 20 <= current_hour < 24:\n",
        "        return \"Good Night !!! \"\n",
        "    else:  # Handles hours 0-5\n",
        "        return \"It's Late Night !!! \"\n",
        "\n",
        "if __name__ == \"__main__\":\n",
        "    print(get_greeting())\n"
      ],
      "metadata": {
        "colab": {
          "base_uri": "https://localhost:8080/"
        },
        "id": "RhiN2DucpANW",
        "outputId": "5548b4aa-45dd-495b-a6f5-5692923cf294"
      },
      "execution_count": 2,
      "outputs": [
        {
          "output_type": "stream",
          "name": "stdout",
          "text": [
            "Current Hour: 18\n",
            "Current Time: 18 : 49 : 29\n",
            "Good Afternoon !!! \n"
          ]
        }
      ]
    }
  ]
}